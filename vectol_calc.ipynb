{
  "nbformat": 4,
  "nbformat_minor": 0,
  "metadata": {
    "colab": {
      "provenance": [],
      "authorship_tag": "ABX9TyPdt/h856hakBwPEdB4Y7xQ",
      "include_colab_link": true
    },
    "kernelspec": {
      "name": "python3",
      "display_name": "Python 3"
    },
    "language_info": {
      "name": "python"
    }
  },
  "cells": [
    {
      "cell_type": "markdown",
      "metadata": {
        "id": "view-in-github",
        "colab_type": "text"
      },
      "source": [
        "<a href=\"https://colab.research.google.com/github/ybamba/Vilib/blob/main/vectol_calc.ipynb\" target=\"_parent\"><img src=\"https://colab.research.google.com/assets/colab-badge.svg\" alt=\"Open In Colab\"/></a>"
      ]
    },
    {
      "cell_type": "code",
      "execution_count": null,
      "metadata": {
        "id": "gsxLq7GUEPYD"
      },
      "outputs": [],
      "source": [
        "import requests\n",
        "from bs4 import BeautifulSoup\n",
        "import math"
      ]
    },
    {
      "cell_type": "code",
      "source": [
        "point1 = [0.235, 0.543, 0.025, 0.033] #point1の座標\n",
        "point2 = [0.256, 0.575, 0.032, 0.033] #point2の座標\n",
        "point0 = [50, 80, 0] #鋸先の座標\n",
        "vit_fram = 30 #フレームレート\n",
        "dell_time = 1 / vit_fram"
      ],
      "metadata": {
        "id": "XnHelR-6EWWK"
      },
      "execution_count": null,
      "outputs": []
    },
    {
      "cell_type": "code",
      "source": [
        "diff_x = point0[0] - point1[0] #point1-point0のx座標の差\n",
        "diff_y = point0[1] - point1[1] #point1-point0のy座標の差\n",
        "diff_z = point0[2] - point1[2] #point1-point0のz座標の差\n",
        "print(diff_x)\n",
        "print(diff_y)\n",
        "print(diff_z)\n",
        "dell_x = point2[0] - point1[0]\n",
        "dell_y = point2[1] - point1[1]\n",
        "dell_z = point2[2] - point1[2]\n",
        "print(dell_x)\n",
        "print(dell_y)\n",
        "print(dell_z)\n",
        "print(dell_time)"
      ],
      "metadata": {
        "colab": {
          "base_uri": "https://localhost:8080/"
        },
        "id": "FqR8DJLfPGpE",
        "outputId": "04573809-adc6-4fd3-b9e0-33a0ab203405"
      },
      "execution_count": null,
      "outputs": [
        {
          "output_type": "stream",
          "name": "stdout",
          "text": [
            "49.765\n",
            "79.457\n",
            "-0.025\n",
            "0.02100000000000002\n",
            "0.03199999999999992\n",
            "0.006999999999999999\n",
            "0.03333333333333333\n"
          ]
        }
      ]
    },
    {
      "cell_type": "code",
      "source": [
        "diffV = math.sqrt((diff_x **2) + (diff_y **2) + (diff_z **2)) #point1-point0間のﾍﾞｸﾄﾙ\n",
        "delV = math.sqrt((dell_x **2) + (dell_y **2) + (dell_z **2)) #poin1-point2間のﾍﾞｸﾄﾙ\n",
        "print(diffV)\n",
        "print(delV)"
      ],
      "metadata": {
        "colab": {
          "base_uri": "https://localhost:8080/"
        },
        "id": "gQNk4s1qY2EL",
        "outputId": "d16d8275-77ee-4739-db6f-187477ba456a"
      },
      "execution_count": null,
      "outputs": [
        {
          "output_type": "stream",
          "name": "stdout",
          "text": [
            "93.75484360287739\n",
            "0.03891015291668738\n"
          ]
        }
      ]
    },
    {
      "cell_type": "code",
      "source": [
        "V1 = math.sqrt((diff_x**2) + (diff_y**2) + (diff_z**2) ) #起点までのﾍﾞｸﾄﾙ1の大きさ\n",
        "V2 = math.sqrt((dell_x**2) + (dell_y**2) + (dell_z**2) ) #derutaﾍﾞｸﾄﾙ2の大きさ\n",
        "print(V1)\n",
        "print(V2)"
      ],
      "metadata": {
        "colab": {
          "base_uri": "https://localhost:8080/"
        },
        "outputId": "0eb3618f-f9fe-4e77-946c-11aef66a9e3a",
        "id": "QoPFiGaDPLK_"
      },
      "execution_count": null,
      "outputs": [
        {
          "output_type": "stream",
          "name": "stdout",
          "text": [
            "93.75484360287739\n",
            "0.03891015291668738\n"
          ]
        }
      ]
    },
    {
      "cell_type": "code",
      "source": [
        "W = math.sqrt((diff_x * dell_x) + (diff_y * dell_y) + (diff_z * dell_z) ) #point1とpoint2の内積の和\n",
        "print(A)"
      ],
      "metadata": {
        "colab": {
          "base_uri": "https://localhost:8080/"
        },
        "id": "REcs38OkEtXR",
        "outputId": "9be17145-3fcc-4728-a8a0-803a8f51959a"
      },
      "execution_count": null,
      "outputs": [
        {
          "output_type": "stream",
          "name": "stdout",
          "text": [
            "0.5882473969343172\n"
          ]
        }
      ]
    },
    {
      "cell_type": "code",
      "source": [
        "theta = math.cosh(W/(V1*V2)) #角の大きさ\n",
        "print(theta)"
      ],
      "metadata": {
        "colab": {
          "base_uri": "https://localhost:8080/"
        },
        "id": "m6k6xPALP5Ut",
        "outputId": "7ae7019e-c38f-4639-9516-7b7c913791ab"
      },
      "execution_count": null,
      "outputs": [
        {
          "output_type": "stream",
          "name": "stdout",
          "text": [
            "1.1378430082990625\n"
          ]
        }
      ]
    },
    {
      "cell_type": "code",
      "source": [
        "theta =8"
      ],
      "metadata": {
        "id": "h7GPvPM-ov_h"
      },
      "execution_count": null,
      "outputs": []
    },
    {
      "cell_type": "code",
      "source": [
        "print(\"角度は　：\")\n",
        "print(theta)\n",
        "\n",
        "if 1 <= theta < 10:\n",
        "    print(\"thetaの角度は小さくベクトルは同方向と思われます\")\n",
        "\n",
        "else :\n",
        "    print(\" ベクトルは同方向ではありません\")"
      ],
      "metadata": {
        "colab": {
          "base_uri": "https://localhost:8080/"
        },
        "id": "IwI-AgTnd07z",
        "outputId": "60ec675a-cb9d-41a4-f984-2c41c3b8147e"
      },
      "execution_count": null,
      "outputs": [
        {
          "output_type": "stream",
          "name": "stdout",
          "text": [
            "角度は　：\n",
            "8\n",
            "thetaの角度は小さくベクトルは同方向と思われます\n"
          ]
        }
      ]
    },
    {
      "cell_type": "code",
      "source": [
        "time_re = ( diffV / delV ) * dell_time #起点への到達時間\n",
        "print(\"起点までの到達時間は　：\")\n",
        "print(float(time_re))\n",
        "print(\"秒です\")"
      ],
      "metadata": {
        "colab": {
          "base_uri": "https://localhost:8080/"
        },
        "id": "VDfIySKSaPHd",
        "outputId": "a05883f9-7156-456c-c597-299ba02b7eba"
      },
      "execution_count": null,
      "outputs": [
        {
          "output_type": "stream",
          "name": "stdout",
          "text": [
            "起点までの到達時間は　：\n",
            "80.31737783505238\n",
            "秒です\n"
          ]
        }
      ]
    }
  ]
}