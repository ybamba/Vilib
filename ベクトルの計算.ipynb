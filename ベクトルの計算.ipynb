{
  "nbformat": 4,
  "nbformat_minor": 0,
  "metadata": {
    "colab": {
      "provenance": [],
      "authorship_tag": "ABX9TyPjdS0DgxP3b9zk2vhf4ifV",
      "include_colab_link": true
    },
    "kernelspec": {
      "name": "python3",
      "display_name": "Python 3"
    },
    "language_info": {
      "name": "python"
    }
  },
  "cells": [
    {
      "cell_type": "markdown",
      "metadata": {
        "id": "view-in-github",
        "colab_type": "text"
      },
      "source": [
        "<a href=\"https://colab.research.google.com/github/ybamba/Vilib/blob/main/%E3%83%99%E3%82%AF%E3%83%88%E3%83%AB%E3%81%AE%E8%A8%88%E7%AE%97.ipynb\" target=\"_parent\"><img src=\"https://colab.research.google.com/assets/colab-badge.svg\" alt=\"Open In Colab\"/></a>"
      ]
    },
    {
      "cell_type": "code",
      "execution_count": 1,
      "metadata": {
        "id": "gsxLq7GUEPYD"
      },
      "outputs": [],
      "source": [
        "import requests\n",
        "from bs4 import BeautifulSoup\n",
        "import math"
      ]
    },
    {
      "cell_type": "code",
      "source": [
        "point1 = [0.235, 0.543, 0.025, 0.033] #point1の座標\n",
        "point2 = [0.256, 0.525, 0.032, 0.033] #point2の座標"
      ],
      "metadata": {
        "id": "XnHelR-6EWWK"
      },
      "execution_count": 2,
      "outputs": []
    },
    {
      "cell_type": "code",
      "source": [
        "A = math.sqrt((point2[0]*point1[0]) + (point2[1]*point1[1]) + (point2[2]*point1[2]) ) #point1とpoint2の内積の和\n",
        "print(A)"
      ],
      "metadata": {
        "colab": {
          "base_uri": "https://localhost:8080/"
        },
        "id": "REcs38OkEtXR",
        "outputId": "c31b8c62-fc8e-4ea6-ea0a-11ad272c79ad"
      },
      "execution_count": 3,
      "outputs": [
        {
          "output_type": "stream",
          "name": "stdout",
          "text": [
            "0.5882473969343172\n"
          ]
        }
      ]
    }
  ]
}